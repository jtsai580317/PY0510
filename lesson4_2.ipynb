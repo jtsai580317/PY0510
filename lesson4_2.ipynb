{
  "nbformat": 4,
  "nbformat_minor": 0,
  "metadata": {
    "colab": {
      "provenance": [],
      "authorship_tag": "ABX9TyPs3KdyENHWnvNLOX4bjA3O",
      "include_colab_link": true
    },
    "kernelspec": {
      "name": "python3",
      "display_name": "Python 3"
    },
    "language_info": {
      "name": "python"
    }
  },
  "cells": [
    {
      "cell_type": "markdown",
      "metadata": {
        "id": "view-in-github",
        "colab_type": "text"
      },
      "source": [
        "<a href=\"https://colab.research.google.com/github/jtsai580317/PY0510/blob/main/lesson4_2.ipynb\" target=\"_parent\"><img src=\"https://colab.research.google.com/assets/colab-badge.svg\" alt=\"Open In Colab\"/></a>"
      ]
    },
    {
      "cell_type": "code",
      "execution_count": null,
      "metadata": {
        "id": "xoKbeJXt78Jz",
        "outputId": "347d156e-10f8-406f-db57-44ca5271494d",
        "colab": {
          "base_uri": "https://localhost:8080/"
        }
      },
      "outputs": [
        {
          "output_type": "stream",
          "name": "stdout",
          "text": [
            "0\n",
            "1\n",
            "2\n",
            "3\n",
            "4\n",
            "5\n"
          ]
        }
      ],
      "source": [
        "c=0\n",
        "while c <= 5:\n",
        "  print (c)\n",
        "  c += 1\n"
      ]
    },
    {
      "cell_type": "code",
      "source": [
        "t = 0\n",
        "while True :\n",
        "  n=int(input(\"請輸入一個數字 (0 結束) :\"))\n",
        "  if n == 0 :\n",
        "    break\n",
        "  elif n == 1 :\n",
        "    t -= 10\n",
        "    continue\n",
        "  else :\n",
        "    t += n\n",
        "    print (\"目前總和為 :\",t)\n",
        "print (\"Total :\",t)"
      ],
      "metadata": {
        "id": "Xl22kRVqCE43",
        "outputId": "0025c0c6-ab0e-4100-da08-944b219425a9",
        "colab": {
          "base_uri": "https://localhost:8080/"
        }
      },
      "execution_count": null,
      "outputs": [
        {
          "output_type": "stream",
          "name": "stdout",
          "text": [
            "請輸入一個數字 (0 結束) :12\n",
            "目前總和為 : 12\n",
            "請輸入一個數字 (0 結束) :22\n",
            "目前總和為 : 34\n",
            "請輸入一個數字 (0 結束) :1\n",
            "請輸入一個數字 (0 結束) :0\n",
            "Total : 24\n"
          ]
        }
      ]
    }
  ]
}